{
  "cells": [
    {
      "cell_type": "markdown",
      "metadata": {
        "id": "view-in-github",
        "colab_type": "text"
      },
      "source": [
        "<a href=\"https://colab.research.google.com/github/BlightG/Hopefield_net/blob/main/Hopfield_minst.ipynb\" target=\"_parent\"><img src=\"https://colab.research.google.com/assets/colab-badge.svg\" alt=\"Open In Colab\"/></a>"
      ]
    },
    {
      "cell_type": "code",
      "execution_count": 578,
      "metadata": {
        "id": "B_BfFYFsXVIC"
      },
      "outputs": [],
      "source": [
        "from tensorflow.keras.datasets import mnist\n",
        "import numpy as np\n",
        "import matplotlib.pyplot as plt\n",
        "import random\n",
        "from scipy.ndimage import rotate"
      ]
    },
    {
      "cell_type": "code",
      "execution_count": 601,
      "metadata": {
        "id": "yYkE8iIjdnEm"
      },
      "outputs": [],
      "source": [
        "class HopfieldNetwork:\n",
        "    def __init__(self, num_neurons=784):\n",
        "        self.num_neurons = num_neurons\n",
        "        self.weights = np.zeros((num_neurons, num_neurons))\n",
        "\n",
        "\n",
        "    def train_pattern(self, patterns):\n",
        "        for pattern in patterns:\n",
        "            pattern = pattern.reshape(self.num_neurons, 1)\n",
        "            self.weights += np.dot(pattern, pattern.T)\n",
        "\n",
        "        np.fill_diagonal(self.weights, 0)\n",
        "\n",
        "\n",
        "    def recall(self, pattern, steps=10, tolerance=1e-6):\n",
        "\n",
        "        pattern = pattern.copy()\n",
        "        previous_energy = self.energy(pattern)\n",
        "        size = pattern.shape[0]\n",
        "\n",
        "        for _ in range(steps):\n",
        "            pattern = pattern.reshape(self.num_neurons, 1)\n",
        "            pattern = np.sign(np.dot(self.weights, pattern))\n",
        "            pattern = pattern.reshape((size, size))\n",
        "            current_energy = self.energy(pattern)\n",
        "            if abs(current_energy - previous_energy) < tolerance:\n",
        "                break\n",
        "            previous_energy = current_energy\n",
        "\n",
        "        pattern = pattern.reshape(28, 28)\n",
        "        return pattern\n",
        "\n",
        "    def energy(self, pattern):\n",
        "        #  - 0.5 time summation of all nodes of the pattern times the coresponding weights\n",
        "        pattern = pattern.reshape(self.num_neurons, 1)\n",
        "        return -0.5 * pattern.T @ self.weights @ pattern\n",
        "\n",
        "\n"
      ]
    },
    {
      "cell_type": "code",
      "execution_count": 602,
      "metadata": {
        "id": "_jWHZ-OeFbWo"
      },
      "outputs": [],
      "source": [
        "class minst_dataset:\n",
        "\n",
        "      def __init__(self):\n",
        "        (x_train, y_train, x_test, y_test) = self.load_minst_data()\n",
        "        self.x_train = x_train\n",
        "        self.y_train = y_train\n",
        "        self.x_test = x_test\n",
        "        self.y_test = y_test\n",
        "        self.train_dict = self.consturct_train_dict()\n",
        "\n",
        "      def load_minst_data(self) -> tuple:\n",
        "        \"\"\" Loads the training and testing data from minst\"\"\"\n",
        "        (x_train, y_train), (x_test, y_test) = mnist.load_data()\n",
        "        return (x_train, y_train, x_test, y_test)\n",
        "\n",
        "      def consturct_train_dict(self) -> dict:\n",
        "        \"\"\" Returns a dict with digits as index and coresponding training images as values \"\"\"\n",
        "        train_dict = {}\n",
        "        for i in range(10):\n",
        "            train_dict[i] = self.x_train[self.y_train == i]\n",
        "\n",
        "        for i in train_dict.keys():\n",
        "            train_dict[i] = random.choice(train_dict[i])\n",
        "            threshold = np.mean(train_dict[i])\n",
        "            train_dict[i] = np.where(train_dict[i] > threshold, 1 ,-1)\n",
        "        return train_dict"
      ]
    },
    {
      "cell_type": "code",
      "execution_count": 603,
      "metadata": {
        "id": "VrsiXeSHQTRD"
      },
      "outputs": [],
      "source": [
        "class Hopfield_interface:\n",
        "    def __init__(self):\n",
        "        self.hopfield_network = HopfieldNetwork()\n",
        "        self.minst_dataset = minst_dataset()\n",
        "        self.pattern_index = []\n",
        "\n",
        "    def train_network(self, first_digit=0, second_digit=2):\n",
        "        \"\"\" trains the network on the given patterns \"\"\"\n",
        "        patterns = [self.minst_dataset.train_dict[first_digit],  self.minst_dataset.train_dict[second_digit]]\n",
        "        self.pattern_index = [first_digit, second_digit]\n",
        "        self.hopfield_network.train_pattern(patterns)\n",
        "\n",
        "    def generate_test_pattern(self, number=0, distortion=\"salt_and_paper\"):\n",
        "      \"\"\" retrives a patter to test the hopefiled network on returns a 28*28 pattern\"\"\"\n",
        "      if number not in range(10):\n",
        "          Exception(\"Number must be between 0 and 9\")\n",
        "      pattern = self.minst_dataset.pick_pattern(number)\n",
        "      threshold = np.mean(pattern)\n",
        "      pattern = np.where(pattern > threshold, 1 ,-1)\n",
        "      pattern = self.distort_pattern(pattern, distortion)\n",
        "      return pattern\n",
        "\n",
        "    def pattern_match(self, pattern):\n",
        "      return self.hopfield_network.recall(pattern)\n",
        "\n",
        "    def distort_pattern(self, pattern, distortion=\"invert_pixels\"):\n",
        "      \"\"\" applies salt_and_pepper noise to the pattern returns 28 * 28 array \"\"\"\n",
        "      distortions = {\n",
        "        \"gaussian_noise\": Distortion.add_gaussian_noise,\n",
        "        \"invert_pixels\": Distortion.invert_random_pixels,\n",
        "        \"salt_and_pepper\": Distortion.add_salt_and_pepper_noise\n",
        "      }\n",
        "\n",
        "      if distortion in distortions:\n",
        "          pattern = distortions[distortion](pattern)\n",
        "      else:\n",
        "         Exception('Invalid distortion provided')\n",
        "      return pattern\n",
        "\n",
        "    def pick_pattern(self):\n",
        "        \"\"\" returns a random pattern from the minst training set\"\"\"\n",
        "        number = random.choice(self.pattern_index)\n",
        "        return random.choice(self.minst_dataset.x_test[self.minst_dataset.y_test == number])\n"
      ]
    },
    {
      "cell_type": "code",
      "source": [
        "import numpy as np\n",
        "\n",
        "class Distortion:\n",
        "\n",
        "    @classmethod\n",
        "    def add_salt_and_pepper_noise(cls, pattern, amount=0.1):\n",
        "      \"\"\"\n",
        "      Adds salt-and-pepper noise to an pattern.\n",
        "      - pattern: 2D array (binary pattern).\n",
        "      - amount: Proportion of pixels to be flipped.\n",
        "      \"\"\"\n",
        "      noisy_pattern = pattern.copy()\n",
        "      # Generate random indices for salt and pepper\n",
        "      num_salt = int(amount * pattern.size / 2)\n",
        "      salt_indices = tuple(np.random.randint(0, i, num_salt) for i in pattern.shape)\n",
        "      num_pepper = int(amount * pattern.size / 2)\n",
        "      pepper_indices = tuple(np.random.randint(0, i, num_pepper) for i in pattern.shape)\n",
        "\n",
        "      # Apply salt and pepper noise\n",
        "      noisy_pattern[salt_indices] = 1\n",
        "      noisy_pattern[pepper_indices] = -1\n",
        "      return noisy_pattern\n",
        "\n",
        "    @classmethod\n",
        "    def add_gaussian_noise(cls, pattern, mean=-0.01, std=0.1):\n",
        "      \"\"\"\n",
        "      Adds Gaussian noise to an pattern.\n",
        "      - pattern: 2D array (binary pattern).\n",
        "      - mean: Mean of the Gaussian distribution.\n",
        "      - std: Standard deviation of the Gaussian distribution.\n",
        "      \"\"\"\n",
        "      noisy_pattern = pattern.copy()\n",
        "      gaussian_noise = np.random.normal(mean, std, pattern.shape)\n",
        "      noisy_pattern = noisy_pattern + gaussian_noise\n",
        "\n",
        "      # Binarize again (optional)\n",
        "      noisy_pattern = np.where(noisy_pattern > 0, 1, -1)\n",
        "      return noisy_pattern\n",
        "\n",
        "    @classmethod\n",
        "    def invert_random_pixels(cls, pattern, amount=0.5):\n",
        "      \"\"\"\n",
        "      Randomly inverts pixels in a binary pattern.\n",
        "      - pattern: 2D array (binary pattern).\n",
        "      - amount: Proportion of pixels to invert.\n",
        "      \"\"\"\n",
        "      noisy_pattern = pattern.copy()\n",
        "      num_pixels_to_invert = int(amount * pattern.size)\n",
        "      indices = tuple(np.random.randint(0, i, num_pixels_to_invert) for i in pattern.shape)\n",
        "\n",
        "      # Invert selected pixels\n",
        "      noisy_pattern[indices] = -noisy_pattern[indices]\n",
        "      return noisy_pattern"
      ],
      "metadata": {
        "id": "bSEbiPvWZyIe"
      },
      "execution_count": 604,
      "outputs": []
    },
    {
      "cell_type": "code",
      "source": [
        "interface = Hopfield_interface()"
      ],
      "metadata": {
        "id": "8dfN2Pdpa1B_"
      },
      "execution_count": 613,
      "outputs": []
    },
    {
      "cell_type": "code",
      "source": [
        "interface.train_network()"
      ],
      "metadata": {
        "id": "xSS5O2bgbIQh"
      },
      "execution_count": 614,
      "outputs": []
    },
    {
      "cell_type": "code",
      "source": [
        "pattern = interface.pick_pattern() # picks a pattern from the digits network was trained on\n",
        "plt.imshow(pattern, cmap='gray')"
      ],
      "metadata": {
        "colab": {
          "base_uri": "https://localhost:8080/",
          "height": 447
        },
        "id": "rAgPNmnmbYDT",
        "outputId": "4b2ee2d0-bf0f-4dcd-ccd4-cf2e7588d69d"
      },
      "execution_count": 618,
      "outputs": [
        {
          "output_type": "execute_result",
          "data": {
            "text/plain": [
              "<matplotlib.image.AxesImage at 0x7bb258d47040>"
            ]
          },
          "metadata": {},
          "execution_count": 618
        },
        {
          "output_type": "display_data",
          "data": {
            "text/plain": [
              "<Figure size 640x480 with 1 Axes>"
            ],
            "image/png": "[encoded data removed]"
          },
          "metadata": {}
        }
      ]
    },
    {
      "cell_type": "code",
      "source": [
        "distorted_pattern = interface.distort_pattern(pattern) # distorts pciked pattern can take string arugment to use different distortions\n",
        "plt.imshow(distorted_pattern, cmap='gray')"
      ],
      "metadata": {
        "colab": {
          "base_uri": "https://localhost:8080/",
          "height": 447
        },
        "id": "I7JWkdsybenx",
        "outputId": "51760bdd-1b3c-4f3d-b567-ba00d3625123"
      },
      "execution_count": 619,
      "outputs": [
        {
          "output_type": "execute_result",
          "data": {
            "text/plain": [
              "<matplotlib.image.AxesImage at 0x7bb258bd1ae0>"
            ]
          },
          "metadata": {},
          "execution_count": 619
        },
        {
          "output_type": "display_data",
          "data": {
            "text/plain": [
              "<Figure size 640x480 with 1 Axes>"
            ],
            "image/png": "[encoded data removed]"
          },
          "metadata": {}
        }
      ]
    },
    {
      "cell_type": "code",
      "source": [
        "retrived_pattern = interface.pattern_match(distorted_pattern) # the stable pattern from the network\n",
        "plt.imshow(retrived_pattern, cmap='gray')"
      ],
      "metadata": {
        "colab": {
          "base_uri": "https://localhost:8080/",
          "height": 447
        },
        "id": "i5OqGn1HbuLE",
        "outputId": "265c3802-8766-4cc4-f790-41e71dd49ff0"
      },
      "execution_count": 620,
      "outputs": [
        {
          "output_type": "execute_result",
          "data": {
            "text/plain": [
              "<matplotlib.image.AxesImage at 0x7bb258c4c7c0>"
            ]
          },
          "metadata": {},
          "execution_count": 620
        },
        {
          "output_type": "display_data",
          "data": {
            "text/plain": [
              "<Figure size 640x480 with 1 Axes>"
            ],
            "image/png": "[encoded data removed]"
          },
          "metadata": {}
        }
      ]
    },
    {
      "cell_type": "code",
      "source": [],
      "metadata": {
        "id": "sIIP6rq2bx5c"
      },
      "execution_count": null,
      "outputs": []
    }
  ],
  "metadata": {
    "colab": {
      "provenance": [],
      "authorship_tag": "ABX9TyMSwW+kbiMb6LJ6PbeO2uM4",
      "include_colab_link": true
    },
    "kernelspec": {
      "display_name": "Python 3",
      "name": "python3"
    },
    "language_info": {
      "name": "python"
    }
  },
  "nbformat": 4,
  "nbformat_minor": 0
}